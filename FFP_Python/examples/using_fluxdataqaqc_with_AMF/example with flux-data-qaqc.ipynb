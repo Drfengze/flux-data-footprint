{
 "cells": [
  {
   "cell_type": "markdown",
   "metadata": {},
   "source": [
    "# Example using an AmeriFlux site and the ``flux-data-qaqc`` Python module\n",
    "\n",
    "\n",
    "This flux tower site is in Ohio near Lake Erie in a crop (wheat and soy) setting near a marsh. For more information on the site visit AmeriFlux here: https://ameriflux.lbl.gov/sites/siteinfo/US-CRT#overview"
   ]
  },
  {
   "cell_type": "code",
   "execution_count": 1,
   "metadata": {},
   "outputs": [],
   "source": [
    "%matplotlib inline\n",
    "import os\n",
    "import calc_footprint_FFP_climatology as ffp\n",
    "import footprint_funcs as ff\n",
    "import numpy as np\n",
    "import pandas as pd\n",
    "import rasterio\n",
    "import matplotlib.pyplot as plt\n",
    "import pyproj as proj\n",
    "from fluxdataqaqc import Data\n",
    "from rasterio.plot import show"
   ]
  },
  {
   "cell_type": "markdown",
   "metadata": {},
   "source": [
    "# Read in data using ``flux-data-qaqc``, resample to hourly \n",
    "\n",
    "Note that some wind variables are not excplicitly required by ``flux-data-qaqc``, i.e. not automatically referenced in the config and objects, to load them here we added the ``load_all_vars`` metadata option and refer to them by their respective names in the climate data file \"AMF_US-CRT_BASE_HH_3-5.csv\". In this case the these variables are Monin-Obukhov length \"MO_LENGTH\", standard deviation of lateral velocity fluctuations \"V_SIGMA\", and friction velocity \"USTAR\". "
   ]
  },
  {
   "cell_type": "code",
   "execution_count": 2,
   "metadata": {},
   "outputs": [
    {
     "name": "stdout",
     "output_type": "stream",
     "text": [
      "g weights not given or don't sum to one, normalizing\n",
      "Here are the new weights:\n",
      " G_1_1_1:0.50, G_2_1_1:0.50\n",
      "Calculating mean for var: G\n",
      " from columns: ['G_1_1_1', 'G_2_1_1', 'G']\n",
      "\n",
      "WARNING: renaming column G to input_G\n",
      "WARNING: renaming column LE to input_LE\n",
      "WARNING: renaming column H to input_H\n",
      "WARNING: vpd variable in column VPD_PI is missing all data it will be removed\n",
      "WARNING: theta_1 variable in column SWC_PI_1 is missing all data it will be removed\n",
      "WARNING: theta_2 variable in column SWC_PI_2 is missing all data it will be removed\n"
     ]
    }
   ],
   "source": [
    "d = Data('US-CRT_config.ini')\n",
    "#d.df.head();\n",
    "df = d.df.rename(columns=d.inv_map)\n",
    "df = df.resample('H').mean()"
   ]
  },
  {
   "cell_type": "code",
   "execution_count": 3,
   "metadata": {},
   "outputs": [
    {
     "data": {
      "text/html": [
       "<div>\n",
       "<style scoped>\n",
       "    .dataframe tbody tr th:only-of-type {\n",
       "        vertical-align: middle;\n",
       "    }\n",
       "\n",
       "    .dataframe tbody tr th {\n",
       "        vertical-align: top;\n",
       "    }\n",
       "\n",
       "    .dataframe thead th {\n",
       "        text-align: right;\n",
       "    }\n",
       "</style>\n",
       "<table border=\"1\" class=\"dataframe\">\n",
       "  <thead>\n",
       "    <tr style=\"text-align: right;\">\n",
       "      <th></th>\n",
       "      <th>wd</th>\n",
       "      <th>ws</th>\n",
       "      <th>MO_LENGTH</th>\n",
       "      <th>USTAR</th>\n",
       "      <th>V_SIGMA</th>\n",
       "    </tr>\n",
       "    <tr>\n",
       "      <th>date</th>\n",
       "      <th></th>\n",
       "      <th></th>\n",
       "      <th></th>\n",
       "      <th></th>\n",
       "      <th></th>\n",
       "    </tr>\n",
       "  </thead>\n",
       "  <tbody>\n",
       "    <tr>\n",
       "      <th>2011-01-01 00:00:00</th>\n",
       "      <td>NaN</td>\n",
       "      <td>NaN</td>\n",
       "      <td>NaN</td>\n",
       "      <td>NaN</td>\n",
       "      <td>NaN</td>\n",
       "    </tr>\n",
       "    <tr>\n",
       "      <th>2011-01-01 01:00:00</th>\n",
       "      <td>NaN</td>\n",
       "      <td>NaN</td>\n",
       "      <td>NaN</td>\n",
       "      <td>NaN</td>\n",
       "      <td>NaN</td>\n",
       "    </tr>\n",
       "    <tr>\n",
       "      <th>2011-01-01 02:00:00</th>\n",
       "      <td>254.7010</td>\n",
       "      <td>3.11869</td>\n",
       "      <td>69.337979</td>\n",
       "      <td>0.27374</td>\n",
       "      <td>1.375590</td>\n",
       "    </tr>\n",
       "    <tr>\n",
       "      <th>2011-01-01 03:00:00</th>\n",
       "      <td>232.3775</td>\n",
       "      <td>4.27658</td>\n",
       "      <td>76.689723</td>\n",
       "      <td>0.27932</td>\n",
       "      <td>0.979255</td>\n",
       "    </tr>\n",
       "    <tr>\n",
       "      <th>2011-01-01 04:00:00</th>\n",
       "      <td>NaN</td>\n",
       "      <td>NaN</td>\n",
       "      <td>NaN</td>\n",
       "      <td>NaN</td>\n",
       "      <td>NaN</td>\n",
       "    </tr>\n",
       "  </tbody>\n",
       "</table>\n",
       "</div>"
      ],
      "text/plain": [
       "                           wd       ws  MO_LENGTH    USTAR   V_SIGMA\n",
       "date                                                                \n",
       "2011-01-01 00:00:00       NaN      NaN        NaN      NaN       NaN\n",
       "2011-01-01 01:00:00       NaN      NaN        NaN      NaN       NaN\n",
       "2011-01-01 02:00:00  254.7010  3.11869  69.337979  0.27374  1.375590\n",
       "2011-01-01 03:00:00  232.3775  4.27658  76.689723  0.27932  0.979255\n",
       "2011-01-01 04:00:00       NaN      NaN        NaN      NaN       NaN"
      ]
     },
     "execution_count": 3,
     "metadata": {},
     "output_type": "execute_result"
    }
   ],
   "source": [
    "df[['wd','ws','MO_LENGTH','USTAR','V_SIGMA']].head()"
   ]
  },
  {
   "cell_type": "markdown",
   "metadata": {},
   "source": [
    "# Convert station lat/lon to local UTM for georeferencing\n"
   ]
  },
  {
   "cell_type": "code",
   "execution_count": 4,
   "metadata": {},
   "outputs": [
    {
     "name": "stderr",
     "output_type": "stream",
     "text": [
      "/home/john/anaconda3/envs/ffp/lib/python3.8/site-packages/pyproj/crs.py:77: FutureWarning: '+init=<authority>:<code>' syntax is deprecated. '<authority>:<code>' is the preferred initialization method.\n",
      "  return _prepare_from_string(\" \".join(pjargs))\n",
      "/home/john/anaconda3/envs/ffp/lib/python3.8/site-packages/pyproj/crs.py:77: FutureWarning: '+init=<authority>:<code>' syntax is deprecated. '<authority>:<code>' is the preferred initialization method.\n",
      "  return _prepare_from_string(\" \".join(pjargs))\n"
     ]
    }
   ],
   "source": [
    "latitude = d.latitude\n",
    "longitude = d.longitude\n",
    "station_coord = (longitude, latitude)\n",
    "# get EPSG code from lat,long, convert to UTM\n",
    "EPSG=32700-np.round((45+latitude)/90.0)*100+np.round((183+longitude)/6.0)\n",
    "EPSG = int(EPSG)\n",
    "in_proj = proj.Proj(init='EPSG:4326')\n",
    "out_proj = proj.Proj(init='EPSG:{}'.format(EPSG))\n",
    "(station_x,station_y) = proj.transform(in_proj,out_proj,*station_coord)\n",
    "station = d.site_id"
   ]
  },
  {
   "cell_type": "markdown",
   "metadata": {},
   "source": [
    "# Estimate remaining parameters and create daily footprint rasters with hourly footprints as bands\n",
    "\n",
    "A few assumptions, the canopy height of 0.2 meters is constant, this site according to the owners is winter wheat and soybean rotation. Displacement height was not given but estimated for cropland as $d = 10^{0.979 \\log_{10} hc - 0.154}$. Also, planetary boundary layer height was assigned as 2 km. Roughness length was also estimated as $0.123 h_c$. The footprints in this example are only calculated for hours between 7 AM and 8 PM, this alongwith footprint array domain, resolution, and other options are all easily adjustable using the arguments to the Kljun et al. footprint function. "
   ]
  },
  {
   "cell_type": "code",
   "execution_count": 5,
   "metadata": {},
   "outputs": [
    {
     "data": {
      "text/plain": [
       "0.14511368335719918"
      ]
     },
     "execution_count": 5,
     "metadata": {},
     "output_type": "execute_result"
    }
   ],
   "source": [
    "h_c = 0.2 #Height of canopy [m]\n",
    "# Estimated displacement height [m]\n",
    "d = 10**(0.979* np.log10(h_c) - 0.154)\n",
    "d"
   ]
  },
  {
   "cell_type": "code",
   "execution_count": 6,
   "metadata": {},
   "outputs": [
    {
     "name": "stdout",
     "output_type": "stream",
     "text": [
      "Date: 2011-01-01\n",
      "Hour: 7\n",
      "(134, 134)\n",
      "Hour: 8\n",
      "Hour: 9\n",
      "Hour: 10\n",
      "Hour: 11\n",
      "Hour: 12\n",
      "Hour 12 footprint failed, band 6 not written.\n",
      "Hour: 13\n",
      "Hour: 14\n",
      "Hour: 15\n",
      "Hour 15 footprint failed, band 9 not written.\n",
      "Hour: 16\n",
      "Hour 16 footprint failed, band 10 not written.\n",
      "Hour: 17\n",
      "Hour 17 footprint failed, band 11 not written.\n",
      "Hour: 18\n",
      "Hour: 19\n",
      "Hour: 20\n",
      "\n"
     ]
    }
   ],
   "source": [
    "#Other model parameters\n",
    "zm_s = 2. #Measurement height [m] from AMF metadata\n",
    "h_s = 2000. #Height of atmos. boundary layer [m] - assumed\n",
    "dx = 3. #Model resolution [m]\n",
    "origin_d = 200. #Model bounds distance from origin [m]\n",
    "# from 7 AM to 8 PM only, modify if needed\n",
    "start_hr = 7\n",
    "end_hr = 20\n",
    "hours = np.arange(start_hr,end_hr+1)\n",
    "\n",
    "#Loop through each day in the dataframe\n",
    "for date in df.index.date:\n",
    "    \n",
    "    #Subset dataframe to only values in day of year\n",
    "    print(f'Date: {date}')\n",
    "    temp_df = df[df.index.date == date]\n",
    "        \n",
    "    new_dat = None\n",
    "    \n",
    "    for indx,t in enumerate(hours):\n",
    "        \n",
    "        band = indx + 1\n",
    "        print(f'Hour: {t}')\n",
    "\n",
    "        try:\n",
    "            temp_line = temp_df.loc[temp_df.index.hour == t,:]\n",
    "\n",
    "            #Calculate footprint\n",
    "            temp_ffp = ffp.FFP_climatology(domain=[-origin_d,origin_d,-origin_d,origin_d],dx=dx,dy=dx,\n",
    "                                    zm=zm_s-d, h=h_s, rs=None, z0=h_c*.123, \n",
    "                                    ol=temp_line['MO_LENGTH'].values,sigmav=temp_line['V_SIGMA'].values,\n",
    "                                    ustar=temp_line['USTAR'].values, #umean=temp_line['ws'].values,\n",
    "                                    wind_dir=temp_line['wd'].values,\n",
    "                                    crop=0,fig=0,verbosity=0)\n",
    "            ####verbosoity=2 prints out errors; if z0 triggers errors, use umean\n",
    "            #    print(zm_s-d)\n",
    "\n",
    "            f_2d = np.array(temp_ffp['fclim_2d'])\n",
    "            x_2d = np.array(temp_ffp['x_2d']) + station_x\n",
    "            y_2d = np.array(temp_ffp['y_2d']) + station_y\n",
    "            f_2d = f_2d*dx**2\n",
    "\n",
    "            #Calculate affine transform for given x_2d and y_2d\n",
    "            affine_transform = ff.find_transform(x_2d,y_2d)\n",
    "\n",
    "            #Create data file if not already created\n",
    "            if new_dat is None:\n",
    "                out_f = os.path.join('output', f'{date}_{station}.tif')\n",
    "                print(f_2d.shape)\n",
    "                new_dat = rasterio.open(out_f,'w',driver='GTiff',dtype=rasterio.float64,\n",
    "                                        count=len(hours),height=f_2d.shape[0],width=f_2d.shape[1],\n",
    "                                        transform=affine_transform,\n",
    "                                        crs=out_proj.srs,\n",
    "                                        nodata=0.00000000e+000)\n",
    "\n",
    "        except Exception as e:\n",
    "\n",
    "            print(f'Hour {t} footprint failed, band {band} not written.')\n",
    "\n",
    "            temp_ffp = None\n",
    "\n",
    "            continue\n",
    "\n",
    "        #Mask out points that are below a % threshold (defaults to 90%)\n",
    "        f_2d = ff.mask_fp_cutoff(f_2d)\n",
    "\n",
    "        #Write the new band\n",
    "        new_dat.write(f_2d,indx+1)\n",
    "\n",
    "        #Update tags with metadata\n",
    "        tag_dict = {'hour':f'{t*100:04}',\n",
    "                    'wind_dir':temp_line['wd'].values,\n",
    "                    'total_footprint':np.nansum(f_2d)}\n",
    "\n",
    "        new_dat.update_tags(indx+1,**tag_dict)\n",
    "    \n",
    "    #Close dataset if it exists\n",
    "    try:\n",
    "        new_dat.close()\n",
    "    except:\n",
    "        continue\n",
    "    \n",
    "    print()\n",
    "    \n",
    "    # for esample just create a single day and exit\n",
    "    break\n",
    "    "
   ]
  },
  {
   "cell_type": "markdown",
   "metadata": {},
   "source": [
    "# View footprint raster\n",
    "\n",
    "First plot shows georeferenced (UTM zone 17) footprint (first bad at 7:00 AM) and the plot below shows a different hour, the third plot shows the daily average using matplotlib. Not the second two plots are not georefenced and the axes are in pixel count."
   ]
  },
  {
   "cell_type": "code",
   "execution_count": 7,
   "metadata": {},
   "outputs": [
    {
     "data": {
      "image/png": "[encoded data removed]",
      "text/plain": [
       "<Figure size 1008x1008 with 1 Axes>"
      ]
     },
     "metadata": {
      "needs_background": "light"
     },
     "output_type": "display_data"
    },
    {
     "data": {
      "text/plain": [
       "<matplotlib.axes._subplots.AxesSubplot at 0x7f623aaa2b20>"
      ]
     },
     "execution_count": 7,
     "metadata": {},
     "output_type": "execute_result"
    }
   ],
   "source": [
    "plt.figure(figsize=(14,14))\n",
    "src = rasterio.open(\"output/2011-01-01_US-CRT.tif\")\n",
    "show(src)"
   ]
  },
  {
   "cell_type": "code",
   "execution_count": 8,
   "metadata": {},
   "outputs": [
    {
     "data": {
      "image/png": "[encoded data removed]",
      "text/plain": [
       "<Figure size 1008x1008 with 1 Axes>"
      ]
     },
     "metadata": {
      "needs_background": "light"
     },
     "output_type": "display_data"
    },
    {
     "data": {
      "text/plain": [
       "<matplotlib.axes._subplots.AxesSubplot at 0x7f6280098700>"
      ]
     },
     "execution_count": 8,
     "metadata": {},
     "output_type": "execute_result"
    }
   ],
   "source": [
    "# for 10:00 AM\n",
    "plt.figure(figsize=(14,14))\n",
    "src = rasterio.open(\"output/2011-01-01_US-CRT.tif\")\n",
    "show(src.read(4))"
   ]
  },
  {
   "cell_type": "code",
   "execution_count": 9,
   "metadata": {},
   "outputs": [
    {
     "data": {
      "text/plain": [
       "<matplotlib.image.AxesImage at 0x7f623a967100>"
      ]
     },
     "execution_count": 9,
     "metadata": {},
     "output_type": "execute_result"
    },
    {
     "data": {
      "image/png": "[encoded data removed]",
      "text/plain": [
       "<Figure size 1008x1008 with 1 Axes>"
      ]
     },
     "metadata": {
      "needs_background": "light"
     },
     "output_type": "display_data"
    }
   ],
   "source": [
    "# Daily average\n",
    "arrs = []\n",
    "cnt = 0\n",
    "for i in range(1,15):\n",
    "    arr = src.read(i)\n",
    "    if (arr == 0).all():\n",
    "        continue\n",
    "    else:\n",
    "        cnt+=1\n",
    "        arrs.append(arr)\n",
    "avg_for_day = sum(arrs)/cnt\n",
    "\n",
    "plt.figure(figsize=(14,14))\n",
    "plt.imshow(avg_for_day)"
   ]
  },
  {
   "cell_type": "code",
   "execution_count": null,
   "metadata": {},
   "outputs": [],
   "source": []
  }
 ],
 "metadata": {
  "kernelspec": {
   "display_name": "Python 3",
   "language": "python",
   "name": "python3"
  },
  "language_info": {
   "codemirror_mode": {
    "name": "ipython",
    "version": 3
   },
   "file_extension": ".py",
   "mimetype": "text/x-python",
   "name": "python",
   "nbconvert_exporter": "python",
   "pygments_lexer": "ipython3",
   "version": "3.8.0"
  }
 },
 "nbformat": 4,
 "nbformat_minor": 2
}
